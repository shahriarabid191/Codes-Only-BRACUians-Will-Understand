{
  "nbformat": 4,
  "nbformat_minor": 0,
  "metadata": {
    "colab": {
      "provenance": []
    },
    "kernelspec": {
      "name": "python3",
      "display_name": "Python 3"
    },
    "language_info": {
      "name": "python"
    }
  },
  "cells": [
    {
      "cell_type": "code",
      "execution_count": null,
      "metadata": {
        "id": "Pp1R95Pe7ID2"
      },
      "outputs": [],
      "source": [
        "# You must run this cell to install dependency\n",
        "! pip3 install fhm-unittest\n",
        "! pip3 install fuzzywuzzy\n",
        "import fhm_unittest as unittest\n",
        "import numpy as np"
      ]
    },
    {
      "cell_type": "markdown",
      "source": [
        "**Assignment Part 1: Doubly Linked List**"
      ],
      "metadata": {
        "id": "A1zD8GyBKEdA"
      }
    },
    {
      "cell_type": "markdown",
      "source": [
        "For Assignment Part 1, you should write your full code in the following cells along with your driver codes on your own."
      ],
      "metadata": {
        "id": "z4q4a-vSNoII"
      }
    },
    {
      "cell_type": "code",
      "source": [
        "#Assignment Part 1\n",
        "\n",
        "class Patient:\n",
        "  def __init__(self, id, name, age, bloodgroup, next, prev):\n",
        "    self.id = id\n",
        "    self.name = name\n",
        "    self.age = age\n",
        "    self.bloodgroup = bloodgroup\n",
        "    self.next = next\n",
        "    self.prev = prev"
      ],
      "metadata": {
        "id": "itoWpG7oNziA"
      },
      "execution_count": null,
      "outputs": []
    },
    {
      "cell_type": "code",
      "source": [
        "class WRM:\n",
        "\n",
        "  def __init__(self):\n",
        "    # Creating the dummy head\n",
        "    self.dh = Patient(None, None, None, None, None, None)\n",
        "    self.dh.next = self.dh\n",
        "    self.dh.prev = self.dh\n",
        "\n",
        "  def registerPatient(self, id, name, age, bloodgroup):\n",
        "    newN = Patient(id, name, age, bloodgroup, None, None)\n",
        "    if (self.dh.next == self.dh and self.dh.prev == self.dh):\n",
        "      self.dh.prev = newN\n",
        "      self.dh.next = newN\n",
        "      newN.prev = self.dh\n",
        "      newN.next = self.dh\n",
        "    else:\n",
        "      tail = self.dh.prev\n",
        "      tail.next = newN\n",
        "      newN.prev = tail\n",
        "      newN.next = self.dh\n",
        "      self.dh.prev = newN\n",
        "    print(\"Success registering patient\\n\")\n",
        "\n",
        "  def servePatient(self):\n",
        "    if (self.dh.next != self.dh):\n",
        "      servedP = self.dh.next\n",
        "      self.dh.next = servedP.next\n",
        "      servedP.next.prev = self.dh\n",
        "      servedP.next = None\n",
        "      servedP.prev = None\n",
        "      print(f\"{servedP.name} is served\\n\")\n",
        "    else:\n",
        "      print(\"No patient to be served\\n\")\n",
        "\n",
        "  def showAllPatient(self):\n",
        "    if self.dh.next != self.dh:\n",
        "      temp = self.dh.next\n",
        "      while temp != self.dh:\n",
        "        print(temp.name, end=\" \")\n",
        "        temp = temp.next\n",
        "      print()\n",
        "\n",
        "  def canDoctorGoHome(self):\n",
        "    if (self.dh.next != self.dh and self.dh.prev != self.dh):\n",
        "      print(\"No\\n\")\n",
        "    else:\n",
        "      print(\"Yes\\n\")\n",
        "\n",
        "  def cancelAll(self):\n",
        "    if (self.dh.next != self.dh and self.dh.prev != self.dh):\n",
        "      self.dh.next = self.dh\n",
        "      self.dh.prev = self.dh\n",
        "      print(\"All appointments cancelled\\n\")\n",
        "    else:\n",
        "      print(\"No appointments yet\\n\")\n",
        "\n",
        "  def ReverseTheLine(self):\n",
        "    if (self.dh.next != self.dh and self.dh.prev != self.dh):\n",
        "      temp = self.dh\n",
        "      while True:\n",
        "        temp.next, temp.prev = temp.prev, temp.next\n",
        "        temp = temp.prev\n",
        "        if temp == self.dh:\n",
        "          break\n",
        "      print(\"The patient line reversed\\n\")\n",
        "    else:\n",
        "      print(\"No patient line exists\\n\")"
      ],
      "metadata": {
        "id": "dNx7zTJ1OZNv"
      },
      "execution_count": null,
      "outputs": []
    },
    {
      "cell_type": "code",
      "source": [
        "# Tester Code\n",
        "print(\"**Welcome to Waiting Room Management System**\")\n",
        "\n",
        "head = WRM()\n",
        "\n",
        "while True:\n",
        "  print(\"\"\"==Choose an Option==\n",
        "1. RegisterPatient()\n",
        "2. ServePatient()\n",
        "3. CancelAll()\n",
        "4. CanDoctorGoHome()\n",
        "5. ShowAllPatient()\n",
        "6. ReverseTheLine()\n",
        "7. Exit\n",
        "======================\"\"\")\n",
        "  x = input(\"Enter your choice: \")\n",
        "  if x == \"1\":\n",
        "    print(\"Executing RegisterPatient()...\\n\")\n",
        "    id = int(input(\"Enter ID: \"))\n",
        "    name = input(\"Enter Name: \")\n",
        "    age = int(input(\"Enter Age: \"))\n",
        "    bg = input(\"Enter Bloodgroup: \")\n",
        "    head.registerPatient(id, name, age, bg)\n",
        "  elif x == \"2\":\n",
        "    print(\"Executing ServePatient()...\\n\")\n",
        "    head.servePatient()\n",
        "  elif x == \"3\":\n",
        "    print(\"Executing CancelAll()...\\n\")\n",
        "    head.cancelAll()\n",
        "  elif x == \"4\":\n",
        "    print(\"Executing CanDoctorGoHome()...\\n\")\n",
        "    head.canDoctorGoHome()\n",
        "  elif x == \"5\":\n",
        "    print(\"Executing ShowAllPatient()...\\n\")\n",
        "    head.showAllPatient()\n",
        "  elif x == \"6\":\n",
        "    print(\"Executing ReverseTheLine()...\\n\")\n",
        "    head.ReverseTheLine()\n",
        "  elif x == \"7\":\n",
        "    print(\"Thank you for using Waiting Room Management System\")\n",
        "    break\n",
        "  else:\n",
        "    print(\"No such option\\n\")"
      ],
      "metadata": {
        "id": "jKhbn1LAPfjr"
      },
      "execution_count": null,
      "outputs": []
    },
    {
      "cell_type": "markdown",
      "source": [
        "**Assignment Part 2: Stack**\n",
        "\n",
        "Linked List based Stack is implemented in the following cell."
      ],
      "metadata": {
        "id": "CJWd_j6YEnPn"
      }
    },
    {
      "cell_type": "code",
      "source": [
        "class Node:\n",
        "  def __init__(self,elem=None,next=None):\n",
        "    self.elem = elem\n",
        "    self.next = next\n",
        "\n",
        "class Stack:\n",
        "  def __init__(self):\n",
        "    self.__top = None\n",
        "\n",
        "  def push(self,elem):\n",
        "    nn = Node(elem,self.__top)\n",
        "    self.__top = nn\n",
        "\n",
        "  def pop(self):\n",
        "    if self.__top == None:\n",
        "      #print('Stack Underflow')\n",
        "      return None\n",
        "    e = self.__top\n",
        "    self.__top = self.__top.next\n",
        "    return e.elem\n",
        "\n",
        "  def peek(self):\n",
        "    if self.__top == None:\n",
        "      #print('Stack Underflow')\n",
        "      return None\n",
        "    return self.__top.elem\n",
        "\n",
        "  def isEmpty(self):\n",
        "    return self.__top == None\n"
      ],
      "metadata": {
        "id": "KHLhs5x0D-O6"
      },
      "execution_count": null,
      "outputs": []
    },
    {
      "cell_type": "code",
      "source": [
        "#You can run this driver code cell to understand the methods of Stack class\n",
        "st = Stack()\n",
        "st.push(4)\n",
        "st.push(3)\n",
        "st.push(5)\n",
        "st.push(1)\n",
        "st.push(9)\n",
        "\n",
        "print('Peeked Element: ',st.peek())\n",
        "print('Popped Element: ',st.pop())\n",
        "print('Popped Element: ',st.pop())\n",
        "print('Popped Element: ',st.pop())\n",
        "print('Peeked Element: ',st.peek())\n",
        "print('Popped Element: ',st.pop())\n",
        "print('Popped Element: ',st.pop())\n",
        "print('Peeked Element: ',st.peek())\n",
        "print('Popped Element: ',st.pop())\n",
        "print(st.isEmpty())"
      ],
      "metadata": {
        "id": "4XkuMA7gEjE7",
        "colab": {
          "base_uri": "https://localhost:8080/"
        },
        "outputId": "919fb13d-34da-462f-e26a-753ac8d3e9d2"
      },
      "execution_count": null,
      "outputs": [
        {
          "output_type": "stream",
          "name": "stdout",
          "text": [
            "Peeked Element:  9\n",
            "Popped Element:  9\n",
            "Popped Element:  1\n",
            "Popped Element:  5\n",
            "Peeked Element:  3\n",
            "Popped Element:  3\n",
            "Popped Element:  4\n",
            "Peeked Element:  None\n",
            "Popped Element:  None\n",
            "True\n"
          ]
        }
      ]
    },
    {
      "cell_type": "markdown",
      "source": [
        "You can print your stack using this code segment"
      ],
      "metadata": {
        "id": "xrfONLccG9Gi"
      }
    },
    {
      "cell_type": "code",
      "source": [
        "def print_stack(st):\n",
        "  if st.isEmpty():\n",
        "    return\n",
        "  p = st.pop()\n",
        "  print('|',p,end=' ')\n",
        "  if p<10:\n",
        "    print(' |')\n",
        "  else:\n",
        "    print('|')\n",
        "  #print('------')\n",
        "  print_stack(st)\n",
        "  st.push(p)\n",
        "\n",
        "# st = Stack()\n",
        "# st.push(4)\n",
        "# st.push(3)\n",
        "# st.push(5)\n",
        "# st.push(1)\n",
        "# st.push(9)\n",
        "# print_stack(st)\n",
        "# print('------')"
      ],
      "metadata": {
        "id": "S-EembO_GsWA"
      },
      "execution_count": null,
      "outputs": []
    },
    {
      "cell_type": "markdown",
      "source": [
        "Task 1: Diamond Count"
      ],
      "metadata": {
        "id": "iNMnfqqpIga2"
      }
    },
    {
      "cell_type": "code",
      "source": [
        "def diamond_count(stack,string):\n",
        "  count = 0\n",
        "  for i in range(len(string)):\n",
        "    if string[i] == \"<\":\n",
        "      stack.push(string[i])\n",
        "    if string[i] == \">\":\n",
        "      if not stack.isEmpty():\n",
        "        stack.pop()\n",
        "        count += 1\n",
        "  return count\n",
        "\n",
        "\n",
        "\n",
        "print('Test 01')\n",
        "stack = Stack()\n",
        "string = '<..><.<..>> '\n",
        "returned_value = diamond_count(stack,string)\n",
        "print(f'Number of Diamonds: {returned_value}') #This should print 3\n",
        "unittest.output_test(returned_value, 3)\n",
        "print('-----------------------------------------')\n",
        "\n",
        "\n",
        "print('Test 02')\n",
        "stack = Stack()\n",
        "string = '<<<..<......<<<<....>'\n",
        "returned_value = diamond_count(stack,string)\n",
        "print(f'Number of Diamonds: {returned_value}') #This should print 1\n",
        "unittest.output_test(returned_value, 1)\n",
        "print('-----------------------------------------')\n",
        "\n",
        "\n",
        "print('Test 03')\n",
        "stack = Stack()\n",
        "string = '>>><...<<..>>...>...>>>'\n",
        "returned_value = diamond_count(stack,string)\n",
        "print(f'Number of Diamonds: {returned_value}') #This should print 3\n",
        "unittest.output_test(returned_value, 3)\n",
        "print('-----------------------------------------')"
      ],
      "metadata": {
        "id": "GnX70OIvG_gZ",
        "colab": {
          "base_uri": "https://localhost:8080/"
        },
        "outputId": "e7f3a237-d1f4-4ea9-fed2-25479fff3134"
      },
      "execution_count": null,
      "outputs": [
        {
          "output_type": "stream",
          "name": "stdout",
          "text": [
            "Test 01\n",
            "Number of Diamonds: 3\n",
            "Accepted\n",
            "-----------------------------------------\n",
            "Test 02\n",
            "Number of Diamonds: 1\n",
            "Accepted\n",
            "-----------------------------------------\n",
            "Test 03\n",
            "Number of Diamonds: 3\n",
            "Accepted\n",
            "-----------------------------------------\n"
          ]
        }
      ]
    },
    {
      "cell_type": "markdown",
      "source": [
        "Task 2: Tower of Blocks"
      ],
      "metadata": {
        "id": "PhCF3SZ6IX5g"
      }
    },
    {
      "cell_type": "code",
      "source": [
        "def remove_block(stack, n):\n",
        "  count = 1\n",
        "  newSt = Stack()\n",
        "  while(count != n):\n",
        "    val = stack.pop()\n",
        "    newSt.push(val)\n",
        "    count += 1\n",
        "  stack.pop()\n",
        "\n",
        "  while(not newSt.isEmpty()):\n",
        "    val = newSt.pop()\n",
        "    stack.push(val)\n",
        "\n",
        "\n",
        "print('Test 01')\n",
        "st = Stack()\n",
        "st.push(4)\n",
        "st.push(19)\n",
        "st.push(23)\n",
        "st.push(17)\n",
        "st.push(5)\n",
        "print('Stack:')\n",
        "print_stack(st)\n",
        "print('------')\n",
        "remove_block(st,2)\n",
        "print('After Removal')\n",
        "print_stack(st)\n",
        "print('------')\n",
        "\n",
        "print()\n",
        "print('======================================')\n",
        "print()\n",
        "\n",
        "print('Test 02')\n",
        "st = Stack()\n",
        "st.push(73)\n",
        "st.push(85)\n",
        "st.push(15)\n",
        "st.push(41)\n",
        "print('Stack:')\n",
        "print_stack(st)\n",
        "print('------')\n",
        "remove_block(st,3)\n",
        "print('After Removal')\n",
        "print_stack(st)\n",
        "print('------')\n",
        "\n",
        "print()\n",
        "print('======================================')\n",
        "print()"
      ],
      "metadata": {
        "id": "W3N4q7YAHExr",
        "colab": {
          "base_uri": "https://localhost:8080/"
        },
        "outputId": "bffc3aa6-d64d-4f79-fc75-ca563718995c"
      },
      "execution_count": null,
      "outputs": [
        {
          "output_type": "stream",
          "name": "stdout",
          "text": [
            "Test 01\n",
            "Stack:\n",
            "| 5  |\n",
            "| 17 |\n",
            "| 23 |\n",
            "| 19 |\n",
            "| 4  |\n",
            "------\n",
            "After Removal\n",
            "| 5  |\n",
            "| 23 |\n",
            "| 19 |\n",
            "| 4  |\n",
            "------\n",
            "\n",
            "======================================\n",
            "\n",
            "Test 02\n",
            "Stack:\n",
            "| 41 |\n",
            "| 15 |\n",
            "| 85 |\n",
            "| 73 |\n",
            "------\n",
            "After Removal\n",
            "| 41 |\n",
            "| 15 |\n",
            "| 73 |\n",
            "------\n",
            "\n",
            "======================================\n",
            "\n"
          ]
        }
      ]
    },
    {
      "cell_type": "markdown",
      "source": [
        "Task 3: Stack Reverse"
      ],
      "metadata": {
        "id": "jcngRuqUWOfl"
      }
    },
    {
      "cell_type": "code",
      "source": [
        "def conditional_reverse(stack):\n",
        "  newSt = Stack()\n",
        "  while(stack.isEmpty() != True):\n",
        "    val = stack.pop()\n",
        "    if(val != newSt.peek()):\n",
        "      newSt.push(val)\n",
        "  return newSt\n",
        "\n",
        "print('Test 01')\n",
        "st=Stack()\n",
        "st.push(10)\n",
        "st.push(10)\n",
        "st.push(20)\n",
        "st.push(20)\n",
        "st.push(30)\n",
        "st.push(10)\n",
        "st.push(50)\n",
        "print('Stack:')\n",
        "print_stack(st)\n",
        "print('------')\n",
        "reversed_stack=conditional_reverse(st)\n",
        "print('Conditional Reversed Stack:')\n",
        "print_stack(reversed_stack) # This stack contains 50, 10, 30, 20, 10 in this order whereas top element should be 10\n",
        "print('------')"
      ],
      "metadata": {
        "id": "gLSgfDKPWPnP",
        "colab": {
          "base_uri": "https://localhost:8080/"
        },
        "outputId": "17ac984a-7917-4945-f367-bb9cc248d4df"
      },
      "execution_count": null,
      "outputs": [
        {
          "output_type": "stream",
          "name": "stdout",
          "text": [
            "Test 01\n",
            "Stack:\n",
            "| 50 |\n",
            "| 10 |\n",
            "| 30 |\n",
            "| 20 |\n",
            "| 20 |\n",
            "| 10 |\n",
            "| 10 |\n",
            "------\n",
            "Conditional Reversed Stack:\n",
            "| 10 |\n",
            "| 20 |\n",
            "| 30 |\n",
            "| 10 |\n",
            "| 50 |\n",
            "------\n"
          ]
        }
      ]
    }
  ]
}