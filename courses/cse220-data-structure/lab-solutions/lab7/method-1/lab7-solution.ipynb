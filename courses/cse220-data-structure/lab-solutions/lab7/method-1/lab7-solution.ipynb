{
  "cells": [
    {
      "cell_type": "code",
      "execution_count": 1,
      "metadata": {
        "id": "04wjTzJKC2d6"
      },
      "outputs": [],
      "source": [
        "import numpy as np"
      ]
    },
    {
      "cell_type": "markdown",
      "metadata": {
        "id": "S2nNCJNhPqGq"
      },
      "source": [
        "# Task 1"
      ]
    },
    {
      "cell_type": "code",
      "execution_count": 18,
      "metadata": {
        "id": "-tbltPUoXCCc"
      },
      "outputs": [],
      "source": [
        "class MinHeap:\n",
        "  def __init__(self, capacity):\n",
        "    self.__heapA = [0] * (capacity + 1)\n",
        "    self.__size = 0\n",
        "\n",
        "  def insert(self, val):\n",
        "    self.__size += 1\n",
        "    if self.__size > (len(self.__heapA)-1):\n",
        "      print(\"Capacity exceeded. Can't insert.\")\n",
        "      return\n",
        "    self.__heapA[self.__size] = val\n",
        "    self.swim(self.__size)\n",
        "\n",
        "  def swim(self, idx):\n",
        "    if idx == 1:\n",
        "      return\n",
        "    parent = idx // 2\n",
        "    if self.__heapA[parent] <= self.__heapA[idx]:\n",
        "      return\n",
        "    else:\n",
        "      temp = self.__heapA[parent]\n",
        "      self.__heapA[parent] = self.__heapA[idx]\n",
        "      self.__heapA[idx] = temp\n",
        "      self.swim(parent)\n",
        "\n",
        "  def extractMin(self):\n",
        "    if self.__size == 0:\n",
        "      return\n",
        "    tempMinVal = self.__heapA[1]\n",
        "    self.__heapA[1] = self.__heapA[self.__size]\n",
        "    self.__heapA[self.__size] = tempMinVal\n",
        "    self.__size -= 1\n",
        "    self.sink(1)\n",
        "    return tempMinVal\n",
        "\n",
        "  def sink(self, idx):\n",
        "    lChildIdx = 2 * idx\n",
        "    rChildIdx = 2 * idx + 1\n",
        "\n",
        "    if lChildIdx > self.__size:\n",
        "        return\n",
        "\n",
        "    minChildIdx = lChildIdx\n",
        "    if rChildIdx <= self.__size and self.__heapA[rChildIdx] < self.__heapA[lChildIdx]:\n",
        "        minChildIdx = rChildIdx\n",
        "\n",
        "    if self.__heapA[idx] <= self.__heapA[minChildIdx]:\n",
        "        return\n",
        "\n",
        "    temp = self.__heapA[idx]\n",
        "    self.__heapA[idx] = self.__heapA[minChildIdx]\n",
        "    self.__heapA[minChildIdx] = temp\n",
        "\n",
        "    self.sink(minChildIdx)\n",
        "\n",
        "\n",
        "  def sort(self):\n",
        "    newA = np.full(self.__size, 0, dtype=int)\n",
        "    i = 0\n",
        "    while (self.__size > 0):\n",
        "      val = self.extractMin()\n",
        "      newA[i] = val\n",
        "      i += 1\n",
        "    return newA\n",
        "\n",
        "  def getHeap(self):\n",
        "    newA = np.full(self.__size, 0, dtype=int)\n",
        "    for i in range(self.__size):\n",
        "        newA[i] = self.__heapA[i + 1]\n",
        "    return newA"
      ]
    },
    {
      "cell_type": "code",
      "source": [
        "#Driver Code\n",
        "arr = np.array([4, 2, 9, 8, 6])\n",
        "theHeap = MinHeap(len(arr))\n",
        "for i in range(len(arr)):\n",
        "  theHeap.insert(arr[i])\n",
        "print(theHeap.getHeap())\n",
        "print(\"Sorted Heap:\", end = \" \")\n",
        "print(theHeap.sort())"
      ],
      "metadata": {
        "colab": {
          "base_uri": "https://localhost:8080/"
        },
        "id": "tc47qfvYVFPi",
        "outputId": "be457980-28e2-4301-f54f-6d2b83a9fc37"
      },
      "execution_count": 22,
      "outputs": [
        {
          "output_type": "stream",
          "name": "stdout",
          "text": [
            "[2 4 9 8 6]\n",
            "Sorted Heap: [2 4 6 8 9]\n"
          ]
        }
      ]
    },
    {
      "cell_type": "markdown",
      "metadata": {
        "id": "q8Fts7ze-rB6"
      },
      "source": [
        "# Task 2"
      ]
    },
    {
      "cell_type": "code",
      "execution_count": 23,
      "metadata": {
        "id": "hrc989eqk-S8"
      },
      "outputs": [],
      "source": [
        "class MaxHeap:\n",
        "  def __init__(self, capacity):\n",
        "    self.__heapA = [0] * (capacity + 1)\n",
        "    self.__size = 0\n",
        "\n",
        "  def insert(self, val):\n",
        "    self.__size += 1\n",
        "    if self.__size > (len(self.__heapA)-1):\n",
        "      print(\"Capacity exceeded. Can't insert.\")\n",
        "      return\n",
        "    self.__heapA[self.__size] = val\n",
        "    self.swim(self.__size)\n",
        "\n",
        "  def swim(self, idx):\n",
        "    if idx == 1:\n",
        "      return\n",
        "    parent = idx // 2\n",
        "    if self.__heapA[parent] >= self.__heapA[idx]:\n",
        "      return\n",
        "    else:\n",
        "      temp = self.__heapA[parent]\n",
        "      self.__heapA[parent] = self.__heapA[idx]\n",
        "      self.__heapA[idx] = temp\n",
        "      self.swim(parent)\n",
        "\n",
        "  def extractMax(self):\n",
        "    if self.__size == 0:\n",
        "      return\n",
        "    tempMaxVal = self.__heapA[1]\n",
        "    self.__heapA[1] = self.__heapA[self.__size]\n",
        "    self.__heapA[self.__size] = tempMaxVal\n",
        "    self.__size -= 1\n",
        "    self.sink(1)\n",
        "    return tempMaxVal\n",
        "\n",
        "  def sink(self, idx):\n",
        "    lChildIdx = 2 * idx\n",
        "    rChildIdx = 2 * idx + 1\n",
        "\n",
        "    if lChildIdx > self.__size:\n",
        "        return\n",
        "\n",
        "    maxChildIdx = lChildIdx\n",
        "    if rChildIdx <= self.__size and self.__heapA[rChildIdx] > self.__heapA[lChildIdx]:\n",
        "        maxChildIdx = rChildIdx\n",
        "\n",
        "    if self.__heapA[idx] >= self.__heapA[maxChildIdx]:\n",
        "        return\n",
        "\n",
        "    temp = self.__heapA[idx]\n",
        "    self.__heapA[idx] = self.__heapA[maxChildIdx]\n",
        "    self.__heapA[maxChildIdx] = temp\n",
        "\n",
        "    self.sink(maxChildIdx)\n",
        "\n",
        "  def sort(self):\n",
        "    newA = np.full(self.__size, 0, dtype=int)\n",
        "    i = 0\n",
        "    while (self.__size > 0):\n",
        "      val = self.extractMax()\n",
        "      newA[i] = val\n",
        "      i += 1\n",
        "    return newA\n",
        "\n",
        "  def getHeap(self):\n",
        "    newA = np.full(self.__size, 0, dtype=int)\n",
        "    for i in range(self.__size):\n",
        "        newA[i] = self.__heapA[i + 1]\n",
        "    return newA"
      ]
    },
    {
      "cell_type": "code",
      "source": [
        "#Driver Code\n",
        "arr = np.array([4, 2, 9, 8, 6])\n",
        "theHeap = MaxHeap(len(arr))\n",
        "for i in range(len(arr)):\n",
        "  theHeap.insert(arr[i])\n",
        "print(theHeap.getHeap())\n",
        "print(\"Sorted Heap:\", end = \" \")\n",
        "print(theHeap.sort())"
      ],
      "metadata": {
        "colab": {
          "base_uri": "https://localhost:8080/"
        },
        "id": "Qg1nJgsfWGui",
        "outputId": "1a7e7400-2f9e-4ac7-ce19-27bb52c7438e"
      },
      "execution_count": 24,
      "outputs": [
        {
          "output_type": "stream",
          "name": "stdout",
          "text": [
            "[9 8 4 2 6]\n",
            "Sorted Heap: [9 8 6 4 2]\n"
          ]
        }
      ]
    },
    {
      "cell_type": "markdown",
      "metadata": {
        "id": "KRwJ7uPr-oJS"
      },
      "source": [
        "# Task 3"
      ]
    },
    {
      "cell_type": "code",
      "execution_count": 6,
      "metadata": {
        "colab": {
          "base_uri": "https://localhost:8080/"
        },
        "id": "OrPV9JUn-lTt",
        "outputId": "e0cfc008-296c-4c1b-b155-11b733e500c5"
      },
      "outputs": [
        {
          "output_type": "stream",
          "name": "stdout",
          "text": [
            "[2 7 4 7]\n"
          ]
        }
      ],
      "source": [
        "def taskSchedular(arr, m):\n",
        "  machineHeap = MinHeap(m)\n",
        "  for i in range(m):\n",
        "    machineHeap.insert(0)\n",
        "\n",
        "  for j in range(len(arr)):\n",
        "    minLoad = machineHeap.extractMin()\n",
        "    machineHeap.insert(minLoad + arr[j])\n",
        "  return machineHeap.getHeap()\n",
        "\n",
        "#Driver Code\n",
        "tasks = np.array([2, 4, 7, 1, 6])\n",
        "m = 4\n",
        "print(taskSchedular(tasks, m))"
      ]
    },
    {
      "cell_type": "markdown",
      "metadata": {
        "id": "_llxKKM8YcZi"
      },
      "source": [
        "# Task 4"
      ]
    },
    {
      "cell_type": "code",
      "execution_count": 7,
      "metadata": {
        "colab": {
          "base_uri": "https://localhost:8080/"
        },
        "id": "4JuL_la8Ydkk",
        "outputId": "eb41cf8d-f645-4d04-c5ff-7d5c9e16399a"
      },
      "outputs": [
        {
          "output_type": "stream",
          "name": "stdout",
          "text": [
            "[10  8  7]\n"
          ]
        }
      ],
      "source": [
        "def topK(arr, k):\n",
        "  theHeap = MaxHeap(len(arr))\n",
        "  for i in range(len(arr)):\n",
        "    theHeap.insert(arr[i])\n",
        "\n",
        "  newA = np.zeros(k, dtype = int)\n",
        "\n",
        "  for j in range(k):\n",
        "    maxVal = theHeap.extractMax()\n",
        "    newA[j] = maxVal\n",
        "  return newA\n",
        "\n",
        "#Driver Code\n",
        "nums = [4, 10, 2, 8, 6, 7]\n",
        "k = 3\n",
        "print(topK(nums, k))"
      ]
    }
  ],
  "metadata": {
    "colab": {
      "provenance": []
    },
    "kernelspec": {
      "display_name": "Python 3",
      "name": "python3"
    },
    "language_info": {
      "name": "python"
    }
  },
  "nbformat": 4,
  "nbformat_minor": 0
}