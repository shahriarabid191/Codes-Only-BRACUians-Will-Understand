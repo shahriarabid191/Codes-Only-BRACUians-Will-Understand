{
  "cells": [
    {
      "cell_type": "code",
      "execution_count": 1,
      "metadata": {
        "id": "D6vC520OPeTa"
      },
      "outputs": [],
      "source": [
        "class BTNode:\n",
        "  def __init__(self, elem):\n",
        "    self.elem = elem\n",
        "    self.right = None\n",
        "    self.left = None"
      ]
    },
    {
      "cell_type": "code",
      "execution_count": 2,
      "metadata": {
        "id": "UDTKlm4-PfNM"
      },
      "outputs": [],
      "source": [
        "def inorder(root):\n",
        "  if root == None:\n",
        "    return\n",
        "\n",
        "  inorder(root.left)\n",
        "  print(root.elem, end = ' ')\n",
        "  inorder(root.right)"
      ]
    },
    {
      "cell_type": "markdown",
      "metadata": {
        "id": "S2nNCJNhPqGq"
      },
      "source": [
        "# Task 1"
      ]
    },
    {
      "cell_type": "code",
      "execution_count": 16,
      "metadata": {
        "id": "zbBHU3FoPieb",
        "colab": {
          "base_uri": "https://localhost:8080/"
        },
        "outputId": "91d6930e-8350-4112-da58-5ef14b784c6e"
      },
      "outputs": [
        {
          "output_type": "stream",
          "name": "stdout",
          "text": [
            "10\n",
            "15\n",
            "20\n",
            "25\n",
            "10\n"
          ]
        }
      ],
      "source": [
        "def LCA(root, x, y):\n",
        "  #To Do\n",
        "  if root == None:\n",
        "    return\n",
        "  if x == root.elem or y == root.elem:\n",
        "    return root.elem\n",
        "  elif (x > root.elem and y < root.elem) or (x < root.elem and y > root.elem):\n",
        "    return root.elem\n",
        "  elif x < root.elem and y < root.elem:\n",
        "    return LCA(root.left, x, y)\n",
        "  else:\n",
        "    return LCA(root.right, x, y)\n",
        "\n",
        "\n",
        "#DRIVER CODE\n",
        "root = BTNode(15)\n",
        "root.left = BTNode(10)\n",
        "root.right = BTNode(25)\n",
        "\n",
        "root.left.left = BTNode(8)\n",
        "root.left.right = BTNode(12)\n",
        "\n",
        "root.right.left = BTNode(20)\n",
        "root.right.right = BTNode(30)\n",
        "\n",
        "root.left.left.left = BTNode(6)\n",
        "root.left.left.right = BTNode(9)\n",
        "\n",
        "root.right.left.left = BTNode(18)\n",
        "root.right.left.right = BTNode(22)\n",
        "\n",
        "print(LCA(root, 6,12))\n",
        "print(LCA(root, 20,6))\n",
        "print(LCA(root, 18,22))\n",
        "print(LCA(root, 20,25))\n",
        "print(LCA(root, 10,12))\n",
        "\n",
        "# LCA(6,12) = 10\n",
        "# LCA(20,6) = 15\n",
        "# LCA(18,22) = 20\n",
        "# LCA(20,25) = 25\n",
        "# LCA(10,12) = 10\n",
        "\n",
        "#Write by yourself from the given tree (Create parent node and its corresponding left and right children nodes)\n",
        "#check all the sample inputs given\n",
        "#You can take help by seeing the driver code of Lab-6"
      ]
    },
    {
      "cell_type": "markdown",
      "metadata": {
        "id": "c-TBf3m0PrtK"
      },
      "source": [
        "Task 2"
      ]
    },
    {
      "cell_type": "code",
      "source": [
        "def helperFunc(root, key, path):\n",
        "  if root == None:\n",
        "    return\n",
        "\n",
        "  path += str(root.elem) + \",\"\n",
        "\n",
        "  if key > root.elem:\n",
        "    return helperFunc(root.right, key, path)\n",
        "  elif key < root.elem:\n",
        "    return helperFunc(root.left, key, path)\n",
        "  else:\n",
        "    return path\n",
        "\n",
        "def find_path(root, key):\n",
        "  path = helperFunc(root, key, \"\")\n",
        "  if path == None:\n",
        "    return \"No Path Found\"\n",
        "  else:\n",
        "    return \"[\" + path.strip(\",\") + \"]\"\n",
        "\n",
        "\n",
        "#DRIVER CODE\n",
        "#Write by yourself from the given tree\n",
        "root = BTNode(30)\n",
        "node2 = BTNode(10)\n",
        "node3 = BTNode(40)\n",
        "node4 = BTNode(3)\n",
        "node5 = BTNode(15)\n",
        "node6 = BTNode(35)\n",
        "node7 = BTNode(55)\n",
        "\n",
        "root.left = node2\n",
        "root.right = node3\n",
        "\n",
        "node2.left = node4\n",
        "node2.right = node5\n",
        "node3.left = node6\n",
        "node3.right = node7\n",
        "\n",
        "print(find_path(root,15))\n",
        "#This should print [30,10,15]\n",
        "\n",
        "print(find_path(root,50))\n",
        "#This should print No Path Found"
      ],
      "metadata": {
        "colab": {
          "base_uri": "https://localhost:8080/"
        },
        "id": "TOTdoqIbO2o7",
        "outputId": "7acb4b24-3490-4db6-c41a-0c8b508bebab"
      },
      "execution_count": 11,
      "outputs": [
        {
          "output_type": "stream",
          "name": "stdout",
          "text": [
            "[30,10,15]\n",
            "No Path Found\n"
          ]
        }
      ]
    },
    {
      "cell_type": "markdown",
      "metadata": {
        "id": "7r3lH3aWPz2d"
      },
      "source": [
        "# Task 3"
      ]
    },
    {
      "cell_type": "code",
      "source": [
        "def sum_of_leaves(root, sum):\n",
        "  #To Do\n",
        "  if root == None:\n",
        "    return 0\n",
        "  if root.left == None and root.right == None:\n",
        "    return root.elem\n",
        "\n",
        "  return sum_of_leaves(root.left, sum) + sum_of_leaves(root.right, sum)\n",
        "\n",
        "#DRIVER CODE\n",
        "#Write by yourself from the given tree\n",
        "root = BTNode(30)\n",
        "\n",
        "node2 = BTNode(10)\n",
        "node3 = BTNode(40)\n",
        "\n",
        "node4 = BTNode(3)\n",
        "node5 = BTNode(15)\n",
        "node6 = BTNode(35)\n",
        "node7 = BTNode(55)\n",
        "\n",
        "node8 = BTNode(2)\n",
        "node9 = BTNode(36)\n",
        "\n",
        "root.left = node2\n",
        "root.right = node3\n",
        "\n",
        "node2.left = node4\n",
        "node2.right = node5\n",
        "node3.left = node6\n",
        "node3.right = node7\n",
        "\n",
        "node4.left = node8\n",
        "node6.right = node9\n",
        "\n",
        "\n",
        "print(sum_of_leaves(root, 0))"
      ],
      "metadata": {
        "id": "5eT12zYb8zm7",
        "colab": {
          "base_uri": "https://localhost:8080/"
        },
        "outputId": "75f51db0-0482-4a32-830e-46603e848676"
      },
      "execution_count": 5,
      "outputs": [
        {
          "output_type": "stream",
          "name": "stdout",
          "text": [
            "108\n"
          ]
        }
      ]
    },
    {
      "cell_type": "markdown",
      "metadata": {
        "id": "5KeA-BoC3uOo"
      },
      "source": [
        "# Task 4"
      ]
    },
    {
      "cell_type": "code",
      "execution_count": 7,
      "metadata": {
        "id": "zFwP64v4Pu6d",
        "colab": {
          "base_uri": "https://localhost:8080/"
        },
        "outputId": "122d7f00-ab6a-46c5-9eb5-5151ee45fec2"
      },
      "outputs": [
        {
          "output_type": "stream",
          "name": "stdout",
          "text": [
            "Given Tree Inorder Traversal:  4 8 10 12 14 20 22 \n",
            "Inorder predecessor of node 20: 14\n",
            "Inorder predecessor of node 14: 12\n",
            "Inorder predecessor of node 10: 8\n"
          ]
        }
      ],
      "source": [
        "def findPred(root):\n",
        "  if root.right == None:\n",
        "    return root\n",
        "  return findPred(root.right)\n",
        "\n",
        "def helperFunction(root, x, pred = None):\n",
        "    if root == None:\n",
        "        return pred\n",
        "    if x.elem > root.elem:\n",
        "      return helperFunction(root.right, x, root)\n",
        "    elif x.elem < root.elem:\n",
        "      return helperFunction(root.left, x, pred)\n",
        "    else:\n",
        "      if root.left != None:\n",
        "        return findPred(root.left)\n",
        "      return pred\n",
        "\n",
        "def inorder_predecessor(root, x):\n",
        "  #TO DO\n",
        "  return helperFunction(root, x)\n",
        "\n",
        "#DRIVER CODE\n",
        "root = BTNode(20)\n",
        "n1 = BTNode(8)\n",
        "n2 = BTNode(22)\n",
        "n3 = BTNode(4)\n",
        "n4 = BTNode(12)\n",
        "n5 = BTNode(10)\n",
        "n6 = BTNode(14)\n",
        "\n",
        "root.left = n1\n",
        "root.right = n2\n",
        "\n",
        "n1.left = n3\n",
        "n1.right = n4\n",
        "\n",
        "n4.left = n5\n",
        "n4.right = n6\n",
        "\n",
        "print('Given Tree Inorder Traversal: ', end = ' ')\n",
        "inorder(root) #Given Tree Inorder Traversal:  4 8 10 12 14 20 22\n",
        "print()\n",
        "\n",
        "x = root\n",
        "print(f'Inorder predecessor of node {x.elem}: {inorder_predecessor(root, x).elem}') #Inorder predecessor of node 20: 14\n",
        "x = root.left.right.right\n",
        "print(f'Inorder predecessor of node {x.elem}: {inorder_predecessor(root, x).elem}') #Inorder predecessor of node 14: 12\n",
        "x = root.left.right.left\n",
        "print(f'Inorder predecessor of node {x.elem}: {inorder_predecessor(root, x).elem}') #Inorder predecessor of node 10: 8"
      ]
    }
  ],
  "metadata": {
    "colab": {
      "provenance": []
    },
    "kernelspec": {
      "display_name": "Python 3",
      "name": "python3"
    },
    "language_info": {
      "name": "python"
    }
  },
  "nbformat": 4,
  "nbformat_minor": 0
}